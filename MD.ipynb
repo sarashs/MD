{
 "cells": [
  {
   "cell_type": "code",
   "execution_count": 36,
   "metadata": {},
   "outputs": [],
   "source": [
    "import numpy as np\n",
    "from numba import cuda, njit, vectorize,float32,int32\n",
    "import math\n",
    "import cupy\n",
    "import tqdm.notebook as tq"
   ]
  },
  {
   "cell_type": "markdown",
   "metadata": {},
   "source": [
    "We prepare a function that writes the output in LAMMPS format:"
   ]
  },
  {
   "cell_type": "code",
   "execution_count": 37,
   "metadata": {},
   "outputs": [],
   "source": [
    "#function that writes the output into lammps format\n",
    "def writelammps(filename, Lx, Ly, Lz, TIMESTEP, r, v): #r,v are numpy arrays\n",
    "    #WRITELAMMPS Write data to lammps file\n",
    "    with open(filename, 'a') as fp:\n",
    "        ip = len(r)\n",
    "        fp.write('ITEM: TIMESTEP\\n')\n",
    "        fp.write(f'{TIMESTEP}\\n')\n",
    "        fp.write('ITEM: NUMBER OF ATOMS\\n')\n",
    "        fp.write(f'{ip}\\n') # Nr of atoms\n",
    "        fp.write('ITEM: BOX BOUNDS pp pp pp\\n')\n",
    "        fp.write(f'{0.0} {Lx}\\n') #box size, x\n",
    "        fp.write(f'{0.0} {Ly}\\n')\n",
    "        fp.write(f'{0.0} {Lz}\\n')\n",
    "        fp.write('ITEM: ATOMS id type x y z vx vy vz\\n')\n",
    "        for i in range(0,ip):\n",
    "            fp.write(f'{i} {1} {r[i][0]} {r[i][1]} {r[i][2]} {v[i][0]} {v[i][1]} {v[i][2]}\\n')"
   ]
  },
  {
   "cell_type": "markdown",
   "metadata": {},
   "source": [
    "Prepare the initial system:"
   ]
  },
  {
   "cell_type": "code",
   "execution_count": 38,
   "metadata": {},
   "outputs": [],
   "source": [
    "def init_lattice():\n",
    "    L = 5 # Lattice size\n",
    "    b = 2.0 # Size of unit cell (units of sigma)\n",
    "    v0 = 1.0 # Initial kinetic energy scale\n",
    "    N=4 * L**3 # Nr of atoms\n",
    "    r = np.zeros((N,3))\n",
    "    r0 = b * np.array(np.meshgrid(np.arange(L), np.arange(L), np.arange(L))).T.reshape(-1, 3)\n",
    "    # Generate velocities: uniform destribution\n",
    "    v = v0 * (0.5 - np.random.rand(N,3))\n",
    "    bvec = np.array([[0, 0, 0], [b/2, b/2, 0], [b/2, 0, b/2], [0, b/2, b/2]])\n",
    "    ip = 0\n",
    "    # Generate lattice positions\n",
    "    for ix in range(0,L):\n",
    "        for iy in range(0,L):\n",
    "            for iz in range(0,L):\n",
    "                for k in range(0,4):\n",
    "                    r[ip] = r0[ix*L**2+L*iy+iz] + bvec[k]\n",
    "                    ip = ip + 1 # Add particle\n",
    "    Lx = L*b\n",
    "    Ly = L*b\n",
    "    Lz = L*b\n",
    "    return r, v, Lx, Ly, Lz\n",
    "# Output to file\n",
    "#writelammps('mymdinit.lammpstrj',L*b,L*b,L*b, 0, r,v)\n"
   ]
  },
  {
   "cell_type": "code",
   "execution_count": 49,
   "metadata": {},
   "outputs": [],
   "source": [
    "# A generic Lennard Jones potential\n",
    "@njit\n",
    "def LJ_potential(dr):\n",
    "    rr = np.dot(dr,dr)\n",
    "    return -24*(2*(1/rr)**6-(1/rr)**3)*dr/rr\n",
    "\n",
    "#velocity verlet \n",
    "@njit\n",
    "def velocity_verlet(N, L, r):\n",
    "    a = np.zeros((N,3)) # Store calculated accelerations\n",
    "    for i1 in range(0, N):\n",
    "        for i2 in range(i1+1, N):\n",
    "            dr = r[i1] - r[i2]\n",
    "            for k in range(0,3): #Periodic boundary conditions\n",
    "                if dr[k] > L[k]/2:\n",
    "                    dr[k] = dr[k] - L[k]\n",
    "                elif dr[k] < -L[k]/2:\n",
    "                    dr[k] = dr[k] + L[k]\n",
    "            aa = LJ_potential(dr)\n",
    "            a[i1] += aa # from i2 on i1\n",
    "            a[i2] -= aa # from i1 on i2\n",
    "    return a\n",
    "\n",
    "# Periodic boundary conditions\n",
    "@njit\n",
    "def periodic_boundary(N, L, r):\n",
    "    for i1 in range(0, N): \n",
    "        for k in range(0,3):\n",
    "            if (r[i1][k]>L[k]):\n",
    "                r[i1][k] = r[i1][k] - L[k]\n",
    "            if (r[i1][k]<0):\n",
    "                r[i1][k] = r[i1][k] + L[k]\n",
    "    return r"
   ]
  },
  {
   "cell_type": "code",
   "execution_count": 50,
   "metadata": {},
   "outputs": [],
   "source": [
    "def integrator(r, v, Lx, Ly, Lz, Dump_file,t = 3.0, dt = 0.001, dump_iter=10): \n",
    "    ''' Input_file : string\n",
    "        Dump_file  : string'''\n",
    "    L = [Lx, Ly, Lz] \n",
    "    N = len(r) \n",
    "    n = int(np.ceil(t/dt))\n",
    "    for i in tq.tqdm(range(1,n)): # Loop over timesteps\n",
    "        # first half of the velocity verlet\n",
    "        a = velocity_verlet(N, L, r)\n",
    "        v = v + a*dt/2;\n",
    "        r = r + v*dt/2\n",
    "        # Periodic boundary conditions\n",
    "        r = periodic_boundary(N, L, r)\n",
    "        #second half of velocity verlet            \n",
    "        a = velocity_verlet(N, L, r)\n",
    "        v = v + a*dt/2;\n",
    "        if i%dump_iter == 0 or i == (n-1):\n",
    "            writelammps(Dump_file, Lx, Ly, Lz, i*dt, r, v);"
   ]
  },
  {
   "cell_type": "code",
   "execution_count": 41,
   "metadata": {},
   "outputs": [],
   "source": [
    "@cuda.jit(device=True)\n",
    "def LJ_potential_gpu(dr, aa):\n",
    "    rr = dr[0]**2 + dr[1]**2 + dr[2]**2\n",
    "    for i in range(3):\n",
    "        aa[i] = -24*(2*(1/rr)**6-(1/rr)**3) * dr[i] / rr\n",
    "\n",
    "@cuda.jit(debug=True)\n",
    "def velocity_verlet_gpu(aa, dt_gpu, L_gpu, r_gpu, dr_gpu, a_gpu, v_gpu):\n",
    "    start_x = cuda.grid(1)\n",
    "    stride_x = cuda.gridsize(1)\n",
    "    tid = start_x\n",
    "    for i1 in range(start_x, r_gpu.shape[0], stride_x):\n",
    "        for i2 in range(i1+1, r_gpu.shape[0]):\n",
    "            for k in range(0,3): #Periodic boundary conditions\n",
    "                dr_gpu[i1][k] = r_gpu[i1][k] - r_gpu[i2][k]\n",
    "                if dr_gpu[i1][k] > L_gpu[k]/2:\n",
    "                    dr_gpu[i1][k] = dr_gpu[i1][k] - L_gpu[k]\n",
    "                elif dr_gpu[i1][k] < -L_gpu[k]/2:\n",
    "                    dr_gpu[i1][k] = dr_gpu[i1][k] + L_gpu[k]\n",
    "            LJ_potential_gpu(dr_gpu[i1], aa[i1])\n",
    "            for k in range(3):\n",
    "                cuda.atomic.add(a_gpu, (i1, k), aa[i1][k])\n",
    "                cuda.atomic.sub(a_gpu, (i2, k), aa[i1][k])\n",
    "                #a_gpu[i1][k] += aa[i1][k] # from i2 on i1\n",
    "                #a_gpu[i2][k] -= aa[i1][k] # from i1 on i2\n",
    "        for k in range(3):\n",
    "            v_gpu[i1][k] += a_gpu[i1][k] * dt_gpu[()]/2;\n",
    "\n",
    "@cuda.jit\n",
    "def periodic_boundary_gpu(dt_gpu, L_gpu, v_gpu, r_gpu):\n",
    "    start_x = cuda.grid(1)\n",
    "    stride_x = cuda.gridsize(1)\n",
    "    tid = start_x\n",
    "    for i1 in range(start_x, r_gpu.shape[0], stride_x):\n",
    "        for k in range(0,3):\n",
    "            r_gpu[i1][k] += v_gpu[i1][k] * dt_gpu[()]/2\n",
    "            if r_gpu[i1][k] > L_gpu[k]:\n",
    "                r_gpu[i1][k] = r_gpu[i1][k] - L_gpu[k]\n",
    "            if r_gpu[i1][k] < 0:\n",
    "                r_gpu[i1][k] = r_gpu[i1][k] + L_gpu[k]"
   ]
  },
  {
   "cell_type": "code",
   "execution_count": 42,
   "metadata": {},
   "outputs": [],
   "source": [
    "def integrator_gpu(r, v, Lx, Ly, Lz, Dump_file,t = 3.0, dt = 0.001, dump_iter=10): \n",
    "    ''' Input_file : string\n",
    "        Dump_file  : string'''\n",
    "    L = np.array([Lx, Ly, Lz])\n",
    "    n = int(np.ceil(t/dt))\n",
    "    \n",
    "    dt_gpu = cuda.to_device(np.float32(dt))\n",
    "    L_gpu = cuda.to_device(np.float32(L))\n",
    "    r_gpu = cuda.to_device(np.float32(r))\n",
    "    a_gpu = cuda.device_array(v.shape, dtype=np.float32) # Store calculated accelerations\n",
    "    v_gpu = cuda.device_array(v.shape, dtype=np.float32) # Store calculated speeds\n",
    "    dr_gpu = cuda.device_array(v.shape, dtype=np.float32) # Store calculated dr\n",
    "    aa = cuda.device_array(v.shape, dtype=np.float32) \n",
    "    \n",
    "    blocks = 128\n",
    "    threads_per_block = 128\n",
    "    \n",
    "    for i in tq.tqdm(range(1,n)): # Loop over timesteps\n",
    "        # first half of the velocity verlet\n",
    "        velocity_verlet_gpu[blocks, threads_per_block](aa, dt_gpu, L_gpu, r_gpu, dr_gpu, a_gpu, v_gpu)\n",
    "        cuda.synchronize()\n",
    "        # Periodic boundary conditions\n",
    "        periodic_boundary_gpu[blocks, threads_per_block](dt_gpu, L_gpu, v_gpu, r_gpu)\n",
    "        cuda.synchronize()\n",
    "        #second half of velocity verlet            \n",
    "        velocity_verlet_gpu[blocks, threads_per_block](aa, dt_gpu, L_gpu, r_gpu, dr_gpu, a_gpu, v_gpu)\n",
    "        cuda.synchronize()\n",
    "        if i%dump_iter == 0 or i == (n-1):\n",
    "            writelammps(Dump_file, Lx, Ly, Lz, i*dt, r_gpu.copy_to_host(), v_gpu.copy_to_host());"
   ]
  },
  {
   "cell_type": "code",
   "execution_count": 53,
   "metadata": {},
   "outputs": [],
   "source": [
    "r, v, Lx, Ly, Lz = init_lattice()"
   ]
  },
  {
   "cell_type": "code",
   "execution_count": null,
   "metadata": {},
   "outputs": [
    {
     "data": {
      "application/vnd.jupyter.widget-view+json": {
       "model_id": "5e16719188734ca7a72f383411b68cab",
       "version_major": 2,
       "version_minor": 0
      },
      "text/plain": [
       "  0%|          | 0/999 [00:00<?, ?it/s]"
      ]
     },
     "metadata": {},
     "output_type": "display_data"
    }
   ],
   "source": [
    "%%time\n",
    "integrator( r, v, Lx, Ly, Lz, 'mymddump.lammpstrj', t = 1, dt = 0.001)"
   ]
  },
  {
   "cell_type": "markdown",
   "metadata": {},
   "source": [
    "Check what cuda device is being used:"
   ]
  },
  {
   "cell_type": "code",
   "execution_count": null,
   "metadata": {},
   "outputs": [],
   "source": [
    "cuda.get_current_device().name"
   ]
  },
  {
   "cell_type": "raw",
   "metadata": {},
   "source": [
    "r, v, Lx, Ly, Lz = init_lattice()"
   ]
  },
  {
   "cell_type": "code",
   "execution_count": null,
   "metadata": {},
   "outputs": [],
   "source": [
    "%%time\n",
    "integrator_gpu( r, v, Lx, Ly, Lz, 'mymddump_gpu.lammpstrj', t = 1, dt = 0.001)"
   ]
  },
  {
   "cell_type": "code",
   "execution_count": null,
   "metadata": {},
   "outputs": [],
   "source": []
  }
 ],
 "metadata": {
  "kernelspec": {
   "display_name": "Python 3 (ipykernel)",
   "language": "python",
   "name": "python3"
  },
  "language_info": {
   "codemirror_mode": {
    "name": "ipython",
    "version": 3
   },
   "file_extension": ".py",
   "mimetype": "text/x-python",
   "name": "python",
   "nbconvert_exporter": "python",
   "pygments_lexer": "ipython3",
   "version": "3.8.8"
  }
 },
 "nbformat": 4,
 "nbformat_minor": 2
}
