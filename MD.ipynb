{
 "cells": [
  {
   "cell_type": "code",
   "execution_count": 9,
   "metadata": {},
   "outputs": [],
   "source": [
    "import numpy as np"
   ]
  },
  {
   "cell_type": "code",
   "execution_count": 67,
   "metadata": {},
   "outputs": [],
   "source": [
    "#function that writes the output into lammps format\n",
    "def writelammps(filename, Lx, Ly, Lz, TIMESTEP, r, v): #r,v are numpy arrays\n",
    "    #WRITELAMMPS Write data to lammps file\n",
    "    with open(filename, 'a') as fp:\n",
    "        ip = len(r)\n",
    "        fp.write('ITEM: TIMESTEP\\n')\n",
    "        fp.write(f'{TIMESTEP}\\n')\n",
    "        fp.write('ITEM: NUMBER OF ATOMS\\n')\n",
    "        fp.write(f'{ip}\\n') # Nr of atoms\n",
    "        fp.write('ITEM: BOX BOUNDS pp pp pp\\n')\n",
    "        fp.write(f'{0.0} {Lx}\\n') #box size, x\n",
    "        fp.write(f'{0.0} {Ly}\\n')\n",
    "        fp.write(f'{0.0} {Lz}\\n')\n",
    "        fp.write('ITEM: ATOMS id type x y z vx vy vz\\n')\n",
    "        for i in range(0,ip):\n",
    "            fp.write(f'{i} {1} {r[i][0]} {r[i][1]} {r[i][2]} {v[i][0]} {v[i][1]} {v[i][2]}\\n')"
   ]
  },
  {
   "cell_type": "code",
   "execution_count": 37,
   "metadata": {},
   "outputs": [],
   "source": [
    "L = 5 # Lattice size\n",
    "b = 2.0 # Size of unit cell (units of sigma)\n",
    "v0 = 1.0 # Initial kinetic energy scale\n",
    "N=4*L**3 # Nr of atoms\n",
    "r = np.zeros((N,3))\n",
    "v = np.zeros((N,3))\n",
    "bvec = np.array([[0, 0, 0], [b/2, b/2, 0], [b/2, 0, b/2], [0, b/2, b/2]])\n",
    "ip = 0\n",
    "# Generate positions\n",
    "for ix in range(0,L):\n",
    "    for iy in range(0,L):\n",
    "        for iz in range(0,L):\n",
    "            r0 = b*np.array([ix, iy, iz]) # Unit cell base position\n",
    "            for k in range(0,4):\n",
    "                r[ip] = r0 + bvec[k]\n",
    "                ip = ip + 1 # Add particle\n",
    "            # Generate velocities\n",
    "            for i in range(0,ip):\n",
    "                v[i] = v0*np.random.rand(1,3);\n",
    "Lx = L*b\n",
    "Ly = L*b\n",
    "Lz = L*b\n",
    "# Output to file\n",
    "writelammps('mymdinit.lammpstrj',L*b,L*b,L*b, 0, r,v)\n"
   ]
  },
  {
   "cell_type": "code",
   "execution_count": 25,
   "metadata": {},
   "outputs": [],
   "source": [
    "# A generic Lennard Jones potential\n",
    "def potential(dr):\n",
    "    rr = np.dot(dr,dr)\n",
    "    return -24*(2*(1/rr)**6-(1/rr)**3)*dr/rr"
   ]
  },
  {
   "cell_type": "code",
   "execution_count": 70,
   "metadata": {},
   "outputs": [],
   "source": [
    "def integrator( r, v, Lx, Ly, Lz, Dump_file,t = 3.0, dt = 0.001): \n",
    "    ''' Input_file : string\n",
    "        Dump_file  : string'''\n",
    "    L = [Lx, Ly, Lz] \n",
    "    N = len(r) \n",
    "    n = int(np.ceil(t/dt))\n",
    "    for i in range(1,n): # Loop over timesteps\n",
    "        a = np.zeros((N,3)) # Store calculated accelerations\n",
    "        #velocity verlet \n",
    "        for i1 in range(0, N):\n",
    "            for i2 in range(i1+1, N):\n",
    "                dr = r[i1] - r[i2]\n",
    "                for k in range(0,3): #Periodic boundary conditions\n",
    "                    if dr[k] > L[k]/2:\n",
    "                        dr[k] = dr[k] - L[k]\n",
    "                    elif dr[k] < -L[k]/2:\n",
    "                        dr[k] = dr[k] + L[k]\n",
    "                aa = potential(dr)\n",
    "                a[i1] = + aa # from i2 on i1\n",
    "                a[i2] = - aa # from i1 on i2\n",
    "        v = v + a*dt/2;\n",
    "        r = r + v*dt/2\n",
    "        # Periodic boundary conditions\n",
    "        for i1 in range(0, N): \n",
    "            for k in range(0,3):\n",
    "                if (r[i1][k]>L[k]):\n",
    "                    r[i1][k] = r[i1][k] - L[k]\n",
    "                if (r[i1][k]<0):\n",
    "                    r[i1][k] = r[i1][k] + L[k]\n",
    "        #Other half of velocity verlet            \n",
    "        for i1 in range(0, N):\n",
    "            for i2 in range(i1+1, N):\n",
    "                dr = r[i1] - r[i2]\n",
    "                for k in range(0,3): #Periodic boundary conditions\n",
    "                    if dr[k] > L[k]/2:\n",
    "                        dr[k] = dr[k] - L[k]\n",
    "                    elif dr[k] < -L[k]/2:\n",
    "                        dr[k] = dr[k] + L[k]\n",
    "                aa = potential(dr)\n",
    "                a[i1] = + aa # from i2 on i1\n",
    "                a[i2] = - aa # from i1 on i2\n",
    "        v = v + a*dt/2;\n",
    "        writelammps(Dump_file, Lx, Ly, Lz, i*dt, r, v);"
   ]
  },
  {
   "cell_type": "code",
   "execution_count": 72,
   "metadata": {},
   "outputs": [
    {
     "name": "stdout",
     "output_type": "stream",
     "text": [
      "Wall time: 6min 35s\n"
     ]
    }
   ],
   "source": [
    "%%time\n",
    "integrator( r, v, Lx, Ly, Lz, 'mymddump.lammpstrj', t = 2, dt = 0.01)"
   ]
  },
  {
   "cell_type": "code",
   "execution_count": null,
   "metadata": {},
   "outputs": [],
   "source": []
  }
 ],
 "metadata": {
  "kernelspec": {
   "display_name": "Python 3",
   "language": "python",
   "name": "python3"
  },
  "language_info": {
   "codemirror_mode": {
    "name": "ipython",
    "version": 3
   },
   "file_extension": ".py",
   "mimetype": "text/x-python",
   "name": "python",
   "nbconvert_exporter": "python",
   "pygments_lexer": "ipython3",
   "version": "3.7.4"
  }
 },
 "nbformat": 4,
 "nbformat_minor": 2
}
